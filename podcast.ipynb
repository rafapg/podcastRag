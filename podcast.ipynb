{
 "cells": [
  {
   "cell_type": "markdown",
   "metadata": {},
   "source": [
    "# RAG Podcast File\n",
    "\n",
    "This notebook aims to create a RAG into an episode of Naruhodo Podcast.\n",
    "RAG means Retrival Augmented Generation.\n",
    "\n",
    "To create a RAG  we need to work in several steps. \n",
    "\n",
    "1. Obtain the data\n",
    "2. Transform the data into specific format to retrival\n",
    "3. Store the data\n",
    "4. Use the user input as context to query the data\n",
    "5. Find the most meaninful data to the context\n",
    "6. Generate a response to answer the user based on the context and the obtaind data"
   ]
  },
  {
   "cell_type": "markdown",
   "metadata": {},
   "source": [
    "## Data\n",
    "\n",
    "Let's start with the data. In this example we'll work with an audio file, from the Naruhodo Podcast (Brazilian podcast about science applyed to common things)\n",
    "\n",
    "The audio source can be downlowad [here](https://cdn.simplecast.com/audio/ab2964e7-bcad-4f2f-9698-45cb681f0d69/episodes/a5c8e7da-82ad-40c9-a440-0a2e5217ac60/audio/164e593b-633e-4733-9c46-916a4a5ce660/default_tc.mp3?nocache)\n",
    "\n",
    "This is an episode discussing about the impact of the blue light in the eye health and the need of the blue light filter lens to people who work most part of the time into computer or cellphone screens."
   ]
  },
  {
   "cell_type": "markdown",
   "metadata": {},
   "source": [
    "## Transform data to text\n",
    "\n",
    "To transform an audio to text we need to use a speech to text model (STT or S2T). There is a lot of these models availabe, but we chose the [Deepgram](https://deepgram.com/) API to get this work done.\n",
    "\n",
    "This API allow to interact with a lot of S2F models and choose which one fits best (quality vs price) to the use case.\n",
    "\n",
    "It also allows to do Diarization, which is the ability to identify multiples speakers in a single audio file and outputs the speaker info into transcript.\n",
    "\n",
    "Lets start with the code of transcription."
   ]
  },
  {
   "cell_type": "code",
   "execution_count": 2,
   "metadata": {
    "vscode": {
     "languageId": "shellscript"
    }
   },
   "outputs": [
    {
     "name": "stderr",
     "output_type": "stream",
     "text": [
      "415.57s - pydevd: Sending message related to process being replaced timed-out after 5 seconds\n"
     ]
    },
    {
     "name": "stdout",
     "output_type": "stream",
     "text": [
      "^C\n",
      "\u001b[31mERROR: Operation cancelled by user\u001b[0m\u001b[31m\n",
      "\u001b[0m\n",
      "\u001b[1m[\u001b[0m\u001b[34;49mnotice\u001b[0m\u001b[1;39;49m]\u001b[0m\u001b[39;49m A new release of pip is available: \u001b[0m\u001b[31;49m24.0\u001b[0m\u001b[39;49m -> \u001b[0m\u001b[32;49m24.2\u001b[0m\n",
      "\u001b[1m[\u001b[0m\u001b[34;49mnotice\u001b[0m\u001b[1;39;49m]\u001b[0m\u001b[39;49m To update, run: \u001b[0m\u001b[32;49mpip install --upgrade pip\u001b[0m\n"
     ]
    }
   ],
   "source": [
    "!pip install deepgram-sdk\n",
    "#!pip install dotenv"
   ]
  },
  {
   "cell_type": "code",
   "execution_count": 4,
   "metadata": {},
   "outputs": [
    {
     "name": "stdout",
     "output_type": "stream",
     "text": [
      "Unexpected exception formatting exception. Falling back to standard exception\n"
     ]
    },
    {
     "name": "stderr",
     "output_type": "stream",
     "text": [
      "Traceback (most recent call last):\n",
      "  File \"/Users/rafaelgirolineto/development/notebooks/podcastRag/venv/lib/python3.12/site-packages/IPython/core/interactiveshell.py\", line 3577, in run_code\n",
      "  File \"/var/folders/2_/68k32jsd7kb870pnl39brz500000gn/T/ipykernel_13864/926815910.py\", line 53, in <module>\n",
      "    main()\n",
      "  File \"/var/folders/2_/68k32jsd7kb870pnl39brz500000gn/T/ipykernel_13864/926815910.py\", line 23, in main\n",
      "    with open(AUDIO_FILE, \"rb\") as file:\n",
      "  File \"/Users/rafaelgirolineto/development/notebooks/podcastRag/venv/lib/python3.12/site-packages/debugpy/_vendored/pydevd/_pydevd_bundle/pydevd_frame.py\", line 1197, in trace_dispatch\n",
      "  File \"/Users/rafaelgirolineto/development/notebooks/podcastRag/venv/lib/python3.12/site-packages/debugpy/_vendored/pydevd/_pydevd_bundle/pydevd_frame.py\", line 165, in do_wait_suspend\n",
      "  File \"/Users/rafaelgirolineto/development/notebooks/podcastRag/venv/lib/python3.12/site-packages/debugpy/_vendored/pydevd/pydevd.py\", line 2070, in do_wait_suspend\n",
      "  File \"/Users/rafaelgirolineto/development/notebooks/podcastRag/venv/lib/python3.12/site-packages/debugpy/_vendored/pydevd/pydevd.py\", line 2106, in _do_wait_suspend\n",
      "KeyboardInterrupt\n",
      "\n",
      "During handling of the above exception, another exception occurred:\n",
      "\n",
      "Traceback (most recent call last):\n",
      "  File \"/Users/rafaelgirolineto/development/notebooks/podcastRag/venv/lib/python3.12/site-packages/pygments/styles/__init__.py\", line 45, in get_style_by_name\n",
      "ModuleNotFoundError: No module named 'pygments.styles.default'\n",
      "\n",
      "During handling of the above exception, another exception occurred:\n",
      "\n",
      "Traceback (most recent call last):\n",
      "  File \"/Users/rafaelgirolineto/development/notebooks/podcastRag/venv/lib/python3.12/site-packages/IPython/core/interactiveshell.py\", line 2168, in showtraceback\n",
      "  File \"/Users/rafaelgirolineto/development/notebooks/podcastRag/venv/lib/python3.12/site-packages/IPython/core/ultratb.py\", line 1454, in structured_traceback\n",
      "  File \"/Users/rafaelgirolineto/development/notebooks/podcastRag/venv/lib/python3.12/site-packages/IPython/core/ultratb.py\", line 1345, in structured_traceback\n",
      "  File \"/Users/rafaelgirolineto/development/notebooks/podcastRag/venv/lib/python3.12/site-packages/IPython/core/ultratb.py\", line 1192, in structured_traceback\n",
      "  File \"/Users/rafaelgirolineto/development/notebooks/podcastRag/venv/lib/python3.12/site-packages/IPython/core/ultratb.py\", line 1082, in format_exception_as_a_whole\n",
      "  File \"/Users/rafaelgirolineto/development/notebooks/podcastRag/venv/lib/python3.12/site-packages/IPython/core/ultratb.py\", line 1133, in get_records\n",
      "  File \"/Users/rafaelgirolineto/development/notebooks/podcastRag/venv/lib/python3.12/site-packages/pygments/styles/__init__.py\", line 47, in get_style_by_name\n",
      "pygments.util.ClassNotFound: Could not find style module 'pygments.styles.default', though it should be builtin.\n"
     ]
    }
   ],
   "source": [
    "import os\n",
    "from dotenv import load_dotenv\n",
    "\n",
    "from deepgram import (\n",
    "    DeepgramClient,\n",
    "    PrerecordedOptions,\n",
    "    FileSource,\n",
    ")\n",
    "\n",
    "load_dotenv()\n",
    "\n",
    "# Path to the audio file\n",
    "AUDIO_FILE = \"data/audio/naruhodo-423.mp3\"\n",
    "\n",
    "API_KEY = os.getenv(\"DG_API_KEY\")\n",
    "\n",
    "\n",
    "def main():\n",
    "    try:\n",
    "        # STEP 1 Create a Deepgram client using the API key\n",
    "        deepgram = DeepgramClient(API_KEY)\n",
    "\n",
    "        with open(AUDIO_FILE, \"rb\") as file:\n",
    "            buffer_data = file.read()\n",
    "\n",
    "        payload: FileSource = {\n",
    "            \"buffer\": buffer_data,\n",
    "        }\n",
    "\n",
    "        # STEP 2: Configure Deepgram options for audio analysis\n",
    "        options = PrerecordedOptions(\n",
    "            model=\"enhanced\",\n",
    "            language=\"pt-BR\",\n",
    "            smart_format=True,\n",
    "            diarize=True,\n",
    "        )\n",
    "\n",
    "        # STEP 3: Call the transcribe_file method with\n",
    "        response = deepgram.listen.prerecorded.v(\"1\").transcribe_file(\n",
    "            payload,\n",
    "            options,\n",
    "            timeout=300,\n",
    "        )\n",
    "\n",
    "        # STEP 4: Print the response\n",
    "        print(response.to_json(indent=4))\n",
    "\n",
    "        # STEP 5: Save to output json file\n",
    "        with open(\"data/transcription/naruhodo-424-transcript.json\", \"w\") as file:\n",
    "            file.write(response.to_json(indent=4))\n",
    "\n",
    "    except Exception as e:\n",
    "        print(f\"Exception: {e}\")\n",
    "\n",
    "\n",
    "if __name__ == \"__main__\":\n",
    "    main()"
   ]
  }
 ],
 "metadata": {
  "kernelspec": {
   "display_name": "Python 3",
   "language": "python",
   "name": "python3"
  },
  "language_info": {
   "codemirror_mode": {
    "name": "ipython",
    "version": 3
   },
   "file_extension": ".py",
   "mimetype": "text/x-python",
   "name": "python",
   "nbconvert_exporter": "python",
   "pygments_lexer": "ipython3",
   "version": "3.12.3"
  }
 },
 "nbformat": 4,
 "nbformat_minor": 2
}
